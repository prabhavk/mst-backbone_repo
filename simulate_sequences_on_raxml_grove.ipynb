{
 "cells": [
  {
   "cell_type": "code",
   "execution_count": null,
   "id": "472f0729",
   "metadata": {},
   "outputs": [],
   "source": [
    "import subprocess as sub\n",
    "path_to_grove = \"/home/pk/projects/RAxMLGrove/\"\n",
    "\n",
    "selected_trees_file_path = \"/home/pk/projects/RAxMLGrove/selected_grove_tree_ids_scalability\"\n",
    "\n",
    "\n",
    "selected_trees_file = open(selected_trees_file_path,\"r\")\n",
    "# tree_ids = []\n",
    "for line in selected_trees_file:    \n",
    "    # tree_ids.append(line.split(\",\")[0])\n",
    "    tree_id = line.split(\",\")[0]\n",
    "    sub.call(\"cp -r \" + path_to_grove + \"trees/\" + tree_id + \" \" + path_to_grove + \"selected_trees/\", shell=True)\n",
    "\n",
    "# print(tree_ids)\n",
    "selected_trees_file.close()\n",
    "\n"
   ]
  },
  {
   "cell_type": "code",
   "execution_count": 15,
   "id": "13cd5098",
   "metadata": {},
   "outputs": [],
   "source": [
    "from ete3 import Tree\n",
    "import numpy as np\n",
    "from numpy.random import uniform, choice, dirichlet\n",
    "import sys\n",
    "import os\n",
    "\n",
    "path_to_grove = \"/home/pk/projects/RAxMLGrove/\"\n",
    "dna_trees_file_path = \"/home/pk/projects/RAxMLGrove/all_gtr_dna_one_partition_trees\"\n",
    "\n",
    "num_trees_with_saturated_branches = 0\n",
    "trees_binned = {}\n",
    "\n",
    "branch_length_thresholds = [pow(10,-4),pow(10,-3),pow(10,-2),pow(10,-1),0.2,0.3,0.4,0.5,0.6,0.7,0.8]\n",
    "\n",
    "for thresh in branch_length_thresholds:\n",
    "    trees_binned[thresh] = []\n",
    "\n",
    "dna_trees_file = open(dna_trees_file_path,\"r\")\n",
    "trees_not_parsed = []\n",
    "max_recorded_branch_length = 0\n",
    "id_of_tree_with_largest_branch = 0\n",
    "for line in dna_trees_file:\n",
    "    tree_file_path = path_to_grove + \"trees/\" + line.strip() + \"/tree_best.newick\"\n",
    "    size_bytes = os.path.getsize(tree_file_path)\n",
    "    if (size_bytes > 0):\n",
    "        try:\n",
    "            t = Tree(tree_file_path, format=1)\n",
    "            max_branch_length = max(node.dist for node in t.traverse() if not node.is_root())\n",
    "            if max_recorded_branch_length < max_branch_length:\n",
    "                id_of_tree_with_largest_branch = line.strip()\n",
    "                max_recorded_branch_length = max_branch_length\n",
    "            for thresh in branch_length_thresholds:\n",
    "                if (max_branch_length < thresh):\n",
    "                    trees_binned[thresh].append(line.strip())\n",
    "                    break\n",
    "        except:\n",
    "            trees_not_parsed.append(line.strip())\n"
   ]
  },
  {
   "cell_type": "code",
   "execution_count": 8,
   "id": "6b42323f",
   "metadata": {},
   "outputs": [
    {
     "name": "stdout",
     "output_type": "stream",
     "text": [
      "number of trees not parsed is  2\n",
      "['36738', '5781']\n"
     ]
    }
   ],
   "source": [
    "print(\"number of trees not parsed is \", len(trees_not_parsed))\n",
    "\n",
    "print(trees_not_parsed)"
   ]
  },
  {
   "cell_type": "code",
   "execution_count": 9,
   "id": "3292b8d8",
   "metadata": {},
   "outputs": [],
   "source": [
    "trees_binned_file_path = \"/home/pk/projects/RAxMLGrove/trees_binned_by_max_br_len\"\n",
    "trees_binned_file = open(trees_binned_file_path,\"w\")\n",
    "for thresh in branch_length_thresholds:\n",
    "    for tree_ind in trees_binned[thresh]:\n",
    "        trees_binned_file.write(str(thresh)+\"\\t\"+str(tree_ind)+\"\\n\")\n",
    "trees_binned_file.close()"
   ]
  },
  {
   "cell_type": "code",
   "execution_count": 10,
   "id": "17477223",
   "metadata": {},
   "outputs": [],
   "source": [
    "import random\n",
    "\n",
    "random.seed(101)\n",
    "\n",
    "selected_trees = {}\n",
    "for thresh in branch_length_thresholds:\n",
    "    trees = trees_binned[thresh]\n",
    "    if len(trees) <= 1000:\n",
    "        # Take all if fewer than 1000\n",
    "        selected_trees[thresh] = trees\n",
    "    else:\n",
    "        # Randomly select 1000 without replacement\n",
    "        selected_trees[thresh] = random.sample(trees, 1000)\n",
    "\n"
   ]
  },
  {
   "cell_type": "code",
   "execution_count": 11,
   "id": "1cc778ff",
   "metadata": {},
   "outputs": [],
   "source": [
    "selected_trees_file_path = \"/home/pk/projects/RAxMLGrove/selected_trees_binned_by_max_br_len\"\n",
    "selected_trees_binned_file = open(selected_trees_file_path,\"w\")\n",
    "for thresh in branch_length_thresholds:\n",
    "    for tree_ind in selected_trees[thresh]:\n",
    "        selected_trees_binned_file.write(str(thresh)+\"\\t\"+str(tree_ind)+\"\\n\")\n",
    "selected_trees_binned_file.close()"
   ]
  },
  {
   "cell_type": "code",
   "execution_count": null,
   "id": "edf83ac9",
   "metadata": {},
   "outputs": [],
   "source": [
    "# simulate sequences for selected trees\n",
    "model_params = {\"alpha\":None,\"Seq_Len\":None,\"ac\":None,\n",
    "         \"ag\":None,\"at\":None,\"cg\":None,\"ct\":None,\"gt\":None,\n",
    "         \"pi_a\":None,\"pi_c\":None,\"pi_g\":None,\"pi_t\":None}\n",
    "for tree_ind in selected_trees[thresh]:\n",
    "    log_file_name = \"/home/pk/projects/RAxMLGrove/trees/\"+tree_ind+\"/log_0.txt\"\n",
    "    log_file = open(log_file_name,\"r\")\n",
    "    for line in log_file:\n",
    "        if line.startswith(\"Substitution Matrix\"):\n",
    "            model = line.split(\":\")[1].strip()\n",
    "            try:\n",
    "                assert(model==\"GTR\")\n",
    "                model_params[\"Substitution_Matrix\"]                \n",
    "            except:\n",
    "                print(tree_ind)\n",
    "                print(line)\n",
    "                exit\n",
    "            \n",
    "    \n"
   ]
  },
  {
   "cell_type": "code",
   "execution_count": 14,
   "id": "256575ae",
   "metadata": {},
   "outputs": [
    {
     "name": "stdout",
     "output_type": "stream",
     "text": [
      "99998\n"
     ]
    },
    {
     "data": {
      "text/plain": [
       "0"
      ]
     },
     "execution_count": 14,
     "metadata": {},
     "output_type": "execute_result"
    }
   ],
   "source": [
    "print(id_of_tree_with_largest_branch)\n",
    "\n",
    "max_recorded_branch_length"
   ]
  }
 ],
 "metadata": {
  "kernelspec": {
   "display_name": ".venv",
   "language": "python",
   "name": "python3"
  },
  "language_info": {
   "codemirror_mode": {
    "name": "ipython",
    "version": 3
   },
   "file_extension": ".py",
   "mimetype": "text/x-python",
   "name": "python",
   "nbconvert_exporter": "python",
   "pygments_lexer": "ipython3",
   "version": "3.12.3"
  }
 },
 "nbformat": 4,
 "nbformat_minor": 5
}
