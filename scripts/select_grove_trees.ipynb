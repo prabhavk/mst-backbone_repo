from ete3 import Tree
import numpy as np
from numpy.random import uniform, choice, dirichlet
import sys

path_to_grove = "/home/pk/projects/RAxMLGrove/"
dna_trees_file_path = "/home/pk/projects/RAxMLGrove/all_dna_trees"

num_trees_with_saturated_branches = 0
trees_binned = {}

branch_length_thresholds = [pow(10,-4),pow(10,-3),pow(10,-2),pow(10,-1),0.2,0.3,0.4,0.5]

for thresh in branch_length_thresholds:
    trees_binned[thresh] = []

dna_trees_file = open(dna_trees_file_path,"r")
for line in dna_trees_file:
    tree_file_path = path_to_grove + "trees/" + line.strip() + "/tree_best.newick"
    t = Tree(tree_file_path, format=1)
    max_branch_length = max(node.dist for node in t.traverse() if not node.is_root())
    for thresh in branch_length_thresholds:
        if (max_branch_length < thresh):
            trees_binned[thresh].append(line.strip())


            