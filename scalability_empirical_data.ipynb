{
 "cells": [
  {
   "cell_type": "code",
   "execution_count": 25,
   "metadata": {},
   "outputs": [],
   "source": [
    "import sys\n",
    "import ete3\n",
    "import os\n",
    "import random\n",
    "from os import walk\n",
    "sys.path.insert(0,'../scripts/')\n",
    "from classDeclarationsAndFunctions import RootedTree\n",
    "from fileIO import ReadRootedTree, ReadAlignment, WriteAlignment\n",
    "from config import projectPath\n",
    "from preprocess import GetAlignmentWithoutGapsAndAmbiguousChars, GetHighQualitySeqs\n",
    "figures_path = projectPath + \"figures/\"\n",
    "# projectPath = "
   ]
  },
  {
   "cell_type": "code",
   "execution_count": null,
   "metadata": {},
   "outputs": [],
   "source": [
    "# Create H3N2 HA datasets for scalability\n",
    "H3N2_HA_full_path = projectPath + \"data/flu/H3N2_HA/H3N2_HA_full_new.fasta\"\n",
    "H3N2_HA_alignment = ReadAlignment(H3N2_HA_full_path)\n",
    "H3N2_HA_alignment_noGaps = GetAlignmentWithoutGapsAndAmbiguousChars(H3N2_HA_alignment)\n",
    "# create subsamples\n",
    "from random import sample\n",
    "seq_ids = list(H3N2_HA_alignment_noGaps.keys())\n",
    "\n",
    "reps = 10\n",
    "size_list = [1000,2000,3000,4000,5000,6000,7000,8000,9000]\n",
    "\n",
    "for rep in range(reps):\n",
    "    for size in size_list:\n",
    "        resampled_ids = sample(seq_ids,size)\n",
    "        resampled_aln = {}\n",
    "        for seq_id in resampled_ids:\n",
    "            resampled_aln[seq_id] = H3N2_HA_alignment_noGaps[seq_id]\n",
    "        resampled_filename = projectPath+\"data/flu/H3N2_HA/resampled_\"+str(size)+\"_seqs_\"+\"rep_\"+str(rep)+\".fasta\"\n",
    "        WriteAlignment(resampled_aln,resampled_filename)\n",
    "        print (size,rep)"
   ]
  },
  {
   "cell_type": "code",
   "execution_count": null,
   "metadata": {},
   "outputs": [],
   "source": []
  },
  {
   "cell_type": "code",
   "execution_count": 2,
   "metadata": {},
   "outputs": [
    {
     "ename": "NameError",
     "evalue": "name 'projectPath' is not defined",
     "output_type": "error",
     "traceback": [
      "\u001b[0;31m---------------------------------------------------------------------------\u001b[0m",
      "\u001b[0;31mNameError\u001b[0m                                 Traceback (most recent call last)",
      "\u001b[0;32m<ipython-input-2-5582f3d52784>\u001b[0m in \u001b[0;36m<module>\u001b[0;34m\u001b[0m\n\u001b[1;32m      2\u001b[0m \u001b[0mmethod_list\u001b[0m \u001b[0;34m=\u001b[0m \u001b[0;34m[\u001b[0m\u001b[0;34m'mstbackbone'\u001b[0m\u001b[0;34m,\u001b[0m\u001b[0;34m'fasttree'\u001b[0m\u001b[0;34m,\u001b[0m\u001b[0;34m'raxmlng'\u001b[0m\u001b[0;34m,\u001b[0m\u001b[0;34m'iqtree'\u001b[0m\u001b[0;34m]\u001b[0m\u001b[0;34m\u001b[0m\u001b[0;34m\u001b[0m\u001b[0m\n\u001b[1;32m      3\u001b[0m \u001b[0;31m# Job scripts\u001b[0m\u001b[0;34m\u001b[0m\u001b[0;34m\u001b[0m\u001b[0;34m\u001b[0m\u001b[0m\n\u001b[0;32m----> 4\u001b[0;31m \u001b[0mdata_path\u001b[0m \u001b[0;34m=\u001b[0m \u001b[0mprojectPath\u001b[0m \u001b[0;34m+\u001b[0m \u001b[0;34m\"data/\"\u001b[0m\u001b[0;34m\u001b[0m\u001b[0;34m\u001b[0m\u001b[0m\n\u001b[0m\u001b[1;32m      5\u001b[0m \u001b[0;32mfor\u001b[0m \u001b[0mrep\u001b[0m \u001b[0;32min\u001b[0m \u001b[0mrange\u001b[0m\u001b[0;34m(\u001b[0m\u001b[0mreps\u001b[0m\u001b[0;34m)\u001b[0m\u001b[0;34m:\u001b[0m\u001b[0;34m\u001b[0m\u001b[0;34m\u001b[0m\u001b[0m\n\u001b[1;32m      6\u001b[0m     \u001b[0mtools_path_geniux\u001b[0m \u001b[0;34m=\u001b[0m \u001b[0;34m\"/project/exaptation/Tools/\"\u001b[0m\u001b[0;34m\u001b[0m\u001b[0;34m\u001b[0m\u001b[0m\n",
      "\u001b[0;31mNameError\u001b[0m: name 'projectPath' is not defined"
     ]
    }
   ],
   "source": [
    "# create scripts for scalability\n",
    "method_list = ['mstbackbone','fasttree','raxmlng','iqtree']\n",
    "# Job scripts\n",
    "data_path = projectPath + \"data/\"\n",
    "for rep in range(reps):\n",
    "    tools_path_geniux = \"/project/exaptation/Tools/\"\n",
    "    iqtree_script = open(\"../batch_scripts/iqtree_h3n2_ha_scalability_rep_\"+str(rep)+\".sh\",\"w\")\n",
    "    mstbackbone_script = open(\"../batch_scripts/mstbackbone_h3n2_ha_scalability_rep_\"+str(rep)+\".sh\",\"w\")\n",
    "    fasttree_script = open(\"../batch_scripts/fastree_h3n2_ha_scalability_rep_\"+str(rep)+\".sh\",\"w\")\n",
    "    raxml_script = open(\"../batch_scripts/raxml_h3n2_ha_scalability_rep_\"+str(rep)+\".sh\",\"w\")\n",
    "    for size in size_list:                \n",
    "        mxqsub_prefix = \"\"        \n",
    "        exp_id = \"h3n2_ha_size_\"+str(size)+\"_rep_\"+str(rep)\n",
    "        sequence_file_name = projectPath+\"data/flu/H3N2_HA/resampled_\"+str(size)+\"_seqs_\"+\"rep_\"+str(rep)+\".fasta\"\n",
    "        # sequence_file_name = projectPath+\"data/nextstrain/subsampled_21_2_2023/resampled_\"+str(size)+\"_seqs_\"+\"rep_\"+str(rep)+\".fasta\"\n",
    "        ###############        IQ-TREE      ##################\n",
    "        # mxqsub_prefix = \"mxqsub -t 2d -m 10G -n -N iqtree_scale\\t\"\n",
    "        # mxqsub_prefix += \" --stderr=err_iqtree_scalability_\"+exp_id\n",
    "        # mxqsub_prefix += \" --stdout=out_iqtree_scalability_\"+exp_id\n",
    "        iqtree_command = tools_path_geniux + \"iqtree2\"\n",
    "        iqtree_command += ' -s ' + sequence_file_name + ' -st DNA'\n",
    "        iqtree_command += ' -nt ' + str(1)\n",
    "        iqtree_command += ' -seed 1234'\n",
    "        # iqtreeCommand += ' -quiet'\n",
    "        iqtree_command += ' -redo'\n",
    "        iqtree_command += ' -pre ' + sequence_file_name + \"_iqtree2.0\"\n",
    "        iqtree_command += ' -m UNREST'\n",
    "        iqtree_script.write(mxqsub_prefix + iqtree_command + \"\\n\")\n",
    "        ###############     MST-BACKBONE     ###################\n",
    "        # mst_backbone_command\n",
    "        # mxqsub_prefix = \"mxqsub -t 2d -m 10G -n -N mstbackbone_scale\\t\"\n",
    "        # mxqsub_prefix += \" --stderr=err_mstbackbone_scalability_\" + exp_id\n",
    "        # mxqsub_prefix += \" --stdout=out_mstbackbone_scalability_\" + exp_id\n",
    "        mst_backbone_command = tools_path_geniux + \"mst-backbone\"\n",
    "        mst_backbone_command += '\\t--seq ' + sequence_file_name\n",
    "        mst_backbone_command += '\\t--out ' + exp_id\n",
    "        mstbackbone_script.write(mxqsub_prefix + mst_backbone_command + \"\\n\")\n",
    "        ###############        RAxML-NG       ##################\n",
    "        # mxqsub_prefix = \"mxqsub -t 2d -m 10G -n -N raxmlng_scale\\t\"\n",
    "        # mxqsub_prefix += \" --stderr=err_raxmlng_scalability_\" + exp_id\n",
    "        # mxqsub_prefix += \" --stdout=out_raxmlng_scalability_\" + exp_id\n",
    "        raxml_command = tools_path_geniux + \"raxml-ng\"\n",
    "        fileNamePrefix = 'RAxMLNG_' + exp_id\n",
    "        raxml_command += ' --tree pars{1}'\n",
    "        raxml_command += ' --model GTR --msa ' + sequence_file_name\n",
    "        raxml_command += ' --threads 1'\n",
    "        # raxml_command += ' --redo '\n",
    "        raxml_command += ' --tip-inner on --pat-comp on --site-repeats on'\n",
    "        raxml_command += ' --prefix ' + fileNamePrefix\n",
    "        raxml_script.write(mxqsub_prefix + raxml_command + \"\\n\")\n",
    "        #############          FastTree        ################\n",
    "        # mxqsub_prefix = \"\"\n",
    "        # mxqsub_prefix = \"mxqsub -t 2d -m 1G -n -N fasttree_scale\\t\"\n",
    "        # mxqsub_prefix += \" --stderr=err_fasttree_scalability_\"+exp_id\n",
    "        # mxqsub_prefix += \" --stdout=out_fasttree_scalability_\"+exp_id\n",
    "        output_tree_file_name = sequence_file_name + '.fasttree_newick'\n",
    "        std_err_file_name = sequence_file_name + '.fasttree_errlog'\n",
    "        fasttree_command = tools_path_geniux + 'FastTree'\n",
    "        fasttree_command += ' -nt -nosupport -nocat -gtr < '+ sequence_file_name\n",
    "        fasttree_command += ' > ' + output_tree_file_name\n",
    "        fasttree_command += ' 2> ' + std_err_file_name\n",
    "        fasttree_script.write(mxqsub_prefix + fasttree_command + \"\\n\")\n",
    "        ########################################################\n",
    "\n",
    "fasttree_script.close()\n",
    "raxml_script.close()\n",
    "mstbackbone_script.close()\n",
    "iqtree_script.close()\n",
    "\n"
   ]
  },
  {
   "cell_type": "code",
   "execution_count": null,
   "metadata": {},
   "outputs": [
    {
     "name": "stdout",
     "output_type": "stream",
     "text": [
      "/home/kalaghat/exaptation/Projects/MSTBasedForests/\n"
     ]
    }
   ],
   "source": [
    "# Create SARS-CoV-2 datasets for scalability\n",
    "print(projectPath)\n",
    "subsampled_nextstrain_sarscov2 = projectPath + \"data/nextstrain/subsampled_21_2_2023/aligned.fasta\"\n",
    "full_subsampled_alignment = ReadAlignment(subsampled_nextstrain_sarscov2)\n"
   ]
  },
  {
   "cell_type": "code",
   "execution_count": null,
   "metadata": {},
   "outputs": [
    {
     "data": {
      "text/plain": [
       "29903"
      ]
     },
     "execution_count": 17,
     "metadata": {},
     "output_type": "execute_result"
    }
   ],
   "source": [
    "high_qual_seqs = GetHighQualitySeqs(full_subsampled_alignment,quality_thresh=0.99)\n",
    "alignment = full_subsampled_alignment\n",
    "len(list(alignment.values())[0])"
   ]
  },
  {
   "cell_type": "code",
   "execution_count": null,
   "metadata": {},
   "outputs": [
    {
     "ename": "TypeError",
     "evalue": "'dict_values' object is not subscriptable",
     "output_type": "error",
     "traceback": [
      "\u001b[0;31m---------------------------------------------------------------------------\u001b[0m",
      "\u001b[0;31mTypeError\u001b[0m                                 Traceback (most recent call last)",
      "\u001b[0;32m<ipython-input-19-696c696f5d15>\u001b[0m in \u001b[0;36m<module>\u001b[0;34m\u001b[0m\n\u001b[0;32m----> 1\u001b[0;31m \u001b[0mfull_subsampled_alignment_trimmed\u001b[0m \u001b[0;34m=\u001b[0m \u001b[0mGetAlignmentWithoutGapsAndAmbiguousChars\u001b[0m\u001b[0;34m(\u001b[0m\u001b[0mfull_subsampled_alignment\u001b[0m\u001b[0;34m)\u001b[0m\u001b[0;34m\u001b[0m\u001b[0;34m\u001b[0m\u001b[0m\n\u001b[0m",
      "\u001b[0;32m~/Projects/mst-backbone-repo/preprocess.py\u001b[0m in \u001b[0;36mGetAlignmentWithoutGapsAndAmbiguousChars\u001b[0;34m(alignment)\u001b[0m\n\u001b[1;32m     32\u001b[0m \u001b[0;34m\u001b[0m\u001b[0m\n\u001b[1;32m     33\u001b[0m \u001b[0;32mdef\u001b[0m \u001b[0mGetAlignmentWithoutGapsAndAmbiguousChars\u001b[0m\u001b[0;34m(\u001b[0m\u001b[0malignment\u001b[0m\u001b[0;34m)\u001b[0m\u001b[0;34m:\u001b[0m\u001b[0;34m\u001b[0m\u001b[0;34m\u001b[0m\u001b[0m\n\u001b[0;32m---> 34\u001b[0;31m     \u001b[0msequenceLength\u001b[0m \u001b[0;34m=\u001b[0m \u001b[0mlen\u001b[0m\u001b[0;34m(\u001b[0m\u001b[0mlist\u001b[0m\u001b[0;34m(\u001b[0m\u001b[0malignment\u001b[0m\u001b[0;34m.\u001b[0m\u001b[0mvalues\u001b[0m\u001b[0;34m(\u001b[0m\u001b[0;34m)\u001b[0m\u001b[0;34m)\u001b[0m\u001b[0;34m[\u001b[0m\u001b[0;36m0\u001b[0m\u001b[0;34m]\u001b[0m\u001b[0;34m)\u001b[0m\u001b[0;34m\u001b[0m\u001b[0;34m\u001b[0m\u001b[0m\n\u001b[0m\u001b[1;32m     35\u001b[0m     \u001b[0mposToKeep\u001b[0m \u001b[0;34m=\u001b[0m \u001b[0;34m[\u001b[0m\u001b[0;32mTrue\u001b[0m\u001b[0;34m]\u001b[0m\u001b[0;34m*\u001b[0m\u001b[0msequenceLength\u001b[0m\u001b[0;34m\u001b[0m\u001b[0;34m\u001b[0m\u001b[0m\n\u001b[1;32m     36\u001b[0m     \u001b[0;32mfor\u001b[0m \u001b[0mkey\u001b[0m \u001b[0;32min\u001b[0m \u001b[0malignment\u001b[0m\u001b[0;34m:\u001b[0m\u001b[0;34m\u001b[0m\u001b[0;34m\u001b[0m\u001b[0m\n",
      "\u001b[0;31mTypeError\u001b[0m: 'dict_values' object is not subscriptable"
     ]
    }
   ],
   "source": [
    "high_qual_subsampled_alignment_trimmed = GetAlignmentWithoutGapsAndAmbiguousChars(high_qual_seqs)"
   ]
  },
  {
   "cell_type": "code",
   "execution_count": null,
   "metadata": {},
   "outputs": [],
   "source": [
    "seq_ids = list(full_subsampled_alignment.keys())\n",
    "full_subsampled_alignment[seq_ids[0],seq_ids[1]]"
   ]
  },
  {
   "cell_type": "code",
   "execution_count": null,
   "metadata": {},
   "outputs": [],
   "source": [
    "# create subsamples\n",
    "from random import sample\n",
    "seq_ids = list(high_qual_subsampled_alignment_trimmed.keys())\n",
    "\n",
    "reps = 10\n",
    "size_list = [500,1000,1500,2000]\n",
    "\n",
    "for rep in range(reps):\n",
    "    for size in size_list:\n",
    "        resampled_ids = sample(seq_ids,size)\n",
    "        resampled_aln = {}\n",
    "        for seq_id in resampled_ids:\n",
    "            resampled_aln[seq_id] = high_qual_subsampled_alignment_trimmed[seq_id]\n",
    "        resampled_filename = projectPath+\"data/nextstrain/subsampled_21_2_2023/resampled_\"+str(size)+\"_seqs_\"+\"rep_\"+str(rep)+\".fasta\"\n",
    "        WriteAlignment(resampled_aln,resampled_filename)\n",
    "        print (size,rep)"
   ]
  },
  {
   "cell_type": "code",
   "execution_count": null,
   "metadata": {},
   "outputs": [],
   "source": [
    "# create scripts for scalability\n",
    "method_list = ['mstbackbone','fasttree','raxmlng','iqtree']\n",
    "# Job scripts\n",
    "data_path = projectPath + \"data/\"\n",
    "tools_path_geniux = \"/project/exaptation/Tools/\"\n",
    "iqtree_script = open(\"../batch_scripts/iqtree_sars_cov2_scalability.sh\",\"w\")\n",
    "mstbackbone_script = open(\"../batch_scripts/mstbackbone_sars_cov2_scalability.sh\",\"w\")\n",
    "fasttree_script = open(\"../batch_scripts/fastree_sars_cov2_scalability.sh\",\"w\")\n",
    "raxml_script = open(\"../batch_scripts/raxml_sars_cov2_scalability.sh\",\"w\")\n",
    "\n",
    "for rep in range(reps):\n",
    "    for size in size_list:                \n",
    "        mxqsub_prefix = \"\"        \n",
    "        exp_id = \"sars_cov2_size_\"+str(size)+\"_rep_\"+str(rep)\n",
    "        sequence_file_name = projectPath+\"data/nextstrain/subsampled_21_2_2023/resampled_\"+str(size)+\"_seqs_\"+\"rep_\"+str(rep)+\".fasta\"\n",
    "        ###############        IQ-TREE      ##################\n",
    "        # mxqsub_prefix = \"mxqsub -t 2d -m 10G -n -N iqtree_scale\\t\"\n",
    "        # mxqsub_prefix += \" --stderr=err_iqtree_scalability_\"+exp_id\n",
    "        # mxqsub_prefix += \" --stdout=out_iqtree_scalability_\"+exp_id\n",
    "        iqtree_command = tools_path_geniux + \"iqtree2\"\n",
    "        iqtree_command += ' -s ' + sequence_file_name + ' -st DNA'\n",
    "        iqtree_command += ' -nt ' + str(1)\n",
    "        iqtree_command += ' -seed 1234'\n",
    "        # iqtreeCommand += ' -quiet'\n",
    "        iqtree_command += ' -redo'\n",
    "        iqtree_command += ' -pre ' + sequence_file_name + \"_iqtree2.0\"\n",
    "        iqtree_command += ' -m UNREST'\n",
    "        iqtree_script.write(mxqsub_prefix + iqtree_command + \"\\n\")\n",
    "        ###############     MST-BACKBONE     ###################\n",
    "        # mst_backbone_command\n",
    "        # mxqsub_prefix = \"mxqsub -t 2d -m 10G -n -N mstbackbone_scale\\t\"\n",
    "        # mxqsub_prefix += \" --stderr=err_mstbackbone_scalability_\" + exp_id\n",
    "        # mxqsub_prefix += \" --stdout=out_mstbackbone_scalability_\" + exp_id\n",
    "        mst_backbone_command = tools_path_geniux + \"mst-backbone\"\n",
    "        mst_backbone_command += '\\t--seq ' + sequence_file_name\n",
    "        mst_backbone_command += '\\t--out ' + exp_id\n",
    "        mstbackbone_script.write(mxqsub_prefix + mst_backbone_command + \"\\n\")\n",
    "        ###############        RAxML-NG       ##################\n",
    "        # mxqsub_prefix = \"mxqsub -t 2d -m 10G -n -N raxmlng_scale\\t\"\n",
    "        # mxqsub_prefix += \" --stderr=err_raxmlng_scalability_\" + exp_id\n",
    "        # mxqsub_prefix += \" --stdout=out_raxmlng_scalability_\" + exp_id\n",
    "        raxml_command = tools_path_geniux + \"raxml-ng\"\n",
    "        fileNamePrefix = 'RAxMLNG_' + exp_id\n",
    "        raxml_command += ' --tree pars{1}'\n",
    "        raxml_command += ' --model GTR --msa ' + sequence_file_name\n",
    "        raxml_command += ' --threads 1'\n",
    "        # raxml_command += ' --redo '\n",
    "        raxml_command += ' --tip-inner on --pat-comp on --site-repeats on'\n",
    "        raxml_command += ' --prefix ' + fileNamePrefix\n",
    "        raxml_script.write(mxqsub_prefix + raxml_command + \"\\n\")\n",
    "        #############          FastTree        ################\n",
    "        # mxqsub_prefix = \"\"\n",
    "        # mxqsub_prefix = \"mxqsub -t 2d -m 1G -n -N fasttree_scale\\t\"\n",
    "        # mxqsub_prefix += \" --stderr=err_fasttree_scalability_\"+exp_id\n",
    "        # mxqsub_prefix += \" --stdout=out_fasttree_scalability_\"+exp_id\n",
    "        output_tree_file_name = sequence_file_name + '.fasttree_newick'\n",
    "        std_err_file_name = sequence_file_name + '.fasttree_errlog'\n",
    "        fasttree_command = tools_path_geniux + 'FastTree'\n",
    "        fasttree_command += ' -nt -nosupport -nocat -gtr < '+ sequence_file_name\n",
    "        fasttree_command += ' > ' + output_tree_file_name\n",
    "        fasttree_command += ' 2> ' + std_err_file_name\n",
    "        fasttree_script.write(mxqsub_prefix + fasttree_command + \"\\n\")\n",
    "        ########################################################\n",
    "\n",
    "\n",
    "\n",
    "fasttree_script.close()\n",
    "raxml_script.close()\n",
    "mstbackbone_script.close()\n",
    "iqtree_script.close()"
   ]
  },
  {
   "cell_type": "code",
   "execution_count": 7,
   "metadata": {},
   "outputs": [],
   "source": [
    "def Get_run_time(method,size,rep,virus_type):\n",
    "    # print(method, exp_id)\n",
    "    if virus_type == \"sars_cov_2\":\n",
    "        prefix = \"nextstrain/subsampled_21_2_2023\"\n",
    "    elif virus_type == \"h3n2_ha\":\n",
    "        prefix = \"flu/H3N2_HA\"\n",
    "    sequence_file_name = projectPath + \"data/\"+prefix+\"/resampled_\"+str(size)+\"_seqs_\"+\"rep_\"+str(rep)+\".fasta\"\n",
    "    exp_id = virus_type + \"_size_\"+str(size)+\"_rep_\"+str(rep)\n",
    "    runTime = -1\n",
    "    if method == \"raxmlng\":\n",
    "        log_file_name = projectPath + '/batch_scripts/RAxMLNG_' + exp_id + '.raxml.log'\n",
    "        tree_file_name = projectPath + '/batch_scripts/RAxMLNG_' + exp_id + '.raxml.bestTree'\n",
    "        if os.path.exists(log_file_name) and os.path.exists(tree_file_name):\n",
    "            if os.path.getsize(log_file_name) > 0 and os.path.getsize(tree_file_name) > 0:\n",
    "                log_file = open(log_file_name,\"r\")\n",
    "                for line in log_file:\n",
    "                    if line.startswith('Elapsed time:'):\n",
    "                        runTime = float(line.strip().split('Elapsed time:')[1].split(' seconds')[0])\n",
    "                log_file.close()\n",
    "    elif method == \"mstbackbone\":\n",
    "        log_file_name = projectPath + \"data/\" + prefix + \"/\" + exp_id + '.mstbackbone_log'\n",
    "        tree_file_name = projectPath + \"data/\" + prefix + \"/\" + exp_id +  '.unrooted_newick'\n",
    "        if os.path.exists(log_file_name) and os.path.exists(tree_file_name):\n",
    "            if os.path.getsize(log_file_name) > 0 and os.path.getsize(tree_file_name) > 0:\n",
    "                log_file = open(log_file_name,\"r\")\n",
    "                for line in log_file:\n",
    "                    if line.startswith('Total CPU time used is '):\n",
    "                        runTime = float(line.split('Total CPU time used is ')[1].split(' seconds')[0])\n",
    "                log_file.close()    \n",
    "    elif method == \"fasttree\":\n",
    "        log_file_name = sequence_file_name + '.fasttree_errlog'\n",
    "        tree_file_name = sequence_file_name + '.fasttree_newick'\n",
    "        if os.path.exists(log_file_name) and os.path.exists(tree_file_name):\n",
    "            if os.path.getsize(log_file_name) > 0 and os.path.getsize(tree_file_name) > 0:\n",
    "                log_file = open(log_file_name,\"r\")\n",
    "                for line in log_file:\n",
    "                    if line.startswith('Total time: '):\n",
    "                        runTime = float(line.strip().split('Total time: ')[1].split(' seconds')[0])\n",
    "                log_file.close()\n",
    "    elif method == \"iqtree\":\n",
    "        log_file_name = sequence_file_name + '_iqtree2.0.log'\n",
    "        tree_file_name = sequence_file_name + '_iqtree2.0.treefile'\n",
    "        if os.path.exists(log_file_name) and os.path.exists(tree_file_name):\n",
    "            if os.path.getsize(log_file_name) > 0 and os.path.getsize(tree_file_name) > 0:\n",
    "                log_file = open(log_file_name,\"r\")\n",
    "                for line in log_file:\n",
    "                    if line.startswith('Total CPU time used:'):\n",
    "                        runTime = float(line.split('Total CPU time used: ')[1].split(' sec')[0])\n",
    "                log_file.close()\n",
    "    return (runTime)"
   ]
  },
  {
   "cell_type": "code",
   "execution_count": null,
   "metadata": {},
   "outputs": [
    {
     "data": {
      "text/plain": [
       "274.939"
      ]
     },
     "execution_count": 3,
     "metadata": {},
     "output_type": "execute_result"
    }
   ],
   "source": [
    "size = 1000\n",
    "rep = 0\n",
    "method_list = ['mstbackbone','fasttree','raxmlng','iqtree']\n",
    "method = method_list[0]\n",
    "Get_run_time(method,size,rep)\n",
    "# log_file_name = projectPath + \"data/nextstrain/subsampled_21_2_2023/resampled_\"+str(size)+\"_seqs_\"+\"rep_\"+str(rep)+ '.mstbackbone_log'        \n",
    "# tree_file_name = projectPath + \"data/nextstrain/subsampled_21_2_2023/resampled_\"+str(size)+\"_seqs_\"+\"rep_\"+str(rep)+ '.unrooted_newick'\n",
    "# print(log_file_name)\n",
    "# os.path.exists(log_file_name)"
   ]
  },
  {
   "cell_type": "code",
   "execution_count": null,
   "metadata": {},
   "outputs": [],
   "source": [
    "# Store run times\n",
    "\n",
    "method_list = ['mstbackbone','fasttree','raxmlng','iqtree']\n",
    "run_times_method = {}\n",
    "num_leaves_method = {}\n",
    "reps = 10\n",
    "size_list = [1000,1500,2000,2500,3000]\n",
    "for method in method_list:\n",
    "    run_times_method[method] = []\n",
    "    num_leaves_method[method] = []\n",
    "    for rep in range(reps):\n",
    "        for size in size_list:        \n",
    "            run_time = Get_run_time(method,size,rep)\n",
    "            if run_time > 0:\n",
    "                run_times_method[method].append(run_time)\n",
    "                num_leaves_method[method].append(size)\n",
    "            "
   ]
  },
  {
   "cell_type": "code",
   "execution_count": null,
   "metadata": {},
   "outputs": [
    {
     "data": {
      "image/png": "[encoded data removed]",
      "text/plain": [
       "<Figure size 432x288 with 1 Axes>"
      ]
     },
     "metadata": {
      "needs_background": "light"
     },
     "output_type": "display_data"
    }
   ],
   "source": [
    "method_list = ['mstbackbone','fasttree','raxmlng','iqtree']\n",
    "method_colors = {}\n",
    "method_colors_map = {}\n",
    "method_colors_map['mstbackbone'] = ['cyan']\n",
    "method_colors_map['fasttree'] = ['black']\n",
    "method_colors_map['raxmlng'] = ['fuchsia']\n",
    "method_colors_map['iqtree'] = ['darkorange']\n",
    "method_colors_map['mst'] = ['darkblue']\n",
    "import matplotlib.pyplot as plt\n",
    "\n",
    "for method in method_list:\n",
    "    method_colors[method] = method_colors_map[method] * len(num_leaves_method[method])    \n",
    "    plt.scatter(num_leaves_method[method],run_times_method[method],label=method,c=method_colors[method])\n",
    "    plt.title(\"Run time analysis on SARS-CoV-2\")\n",
    "    plt.xlabel(\"Number of sequences\")\n",
    "    plt.ylabel(\"Elapsed CPU time (sec)\")\n",
    "    plt.yscale(\"log\")\n",
    "\n",
    "plt.ylim(pow(10,2),pow(10,6))\n",
    "plt.legend(['MST-backbone(SEM-GMM)','FastTree 2','RAxML-NG', 'IQ-TREE 2'], bbox_to_anchor=(0.0,1.0), loc =\"upper left\", frameon=False)\n",
    "# plt.set_size_inches(13, 10)\n",
    "plt.savefig(figures_path+\"sars_cov_2_scalability.eps\", dpi=100,bbox_inches='tight')\n",
    "plt.savefig(figures_path+\"sars_cov_2_scalability.png\", dpi=100,bbox_inches='tight')"
   ]
  },
  {
   "cell_type": "code",
   "execution_count": 8,
   "metadata": {},
   "outputs": [],
   "source": [
    "# Store run times h3n2_ha \n",
    "size_list = [1000,2000,3000,4000,5000,6000,7000,8000,9000]\n",
    "# Store run times\n",
    "\n",
    "method_list = ['mstbackbone','fasttree','raxmlng','iqtree']\n",
    "run_times_method = {}\n",
    "num_leaves_method = {}\n",
    "reps = 10\n",
    "virus_type = \"h3n2_ha\"\n",
    "run_time_file = open(projectPath+\"results/run_time_\"+virus_type,\"w\")\n",
    "for method in method_list:\n",
    "    run_times_method[method] = []\n",
    "    num_leaves_method[method] = []\n",
    "    for rep in range(reps):\n",
    "        for size in size_list:        \n",
    "            run_time = Get_run_time(method,size,rep,virus_type)            \n",
    "            if run_time > 0:\n",
    "                run_times_method[method].append(run_time)\n",
    "                num_leaves_method[method].append(size)\n",
    "                run_time_file.write(str(run_time)+\"\\t\"+method+\"\\t\"+str(size)+\"\\n\")\n",
    "run_time_file.close()\n"
   ]
  },
  {
   "cell_type": "code",
   "execution_count": 27,
   "metadata": {},
   "outputs": [],
   "source": [
    "# Read run times\n",
    "import numpy as np\n",
    "\n",
    "run_time_file = open(projectPath+\"results/run_time_\"+virus_type,\"r\")  \n",
    "for line in run_time_file:\n",
    "    run_time, method, size = line.split(\"\\t\")\n",
    "    run_times_method[method][int(size.strip())].append(float(run_time))\n",
    "run_time_file.close()\n",
    "\n",
    "median_run_time_method = {}\n",
    "upper_quartile_run_time_method = {}\n",
    "lower_quartile_run_time_method = {}\n",
    "\n",
    "for method in method_list:\n",
    "    median_run_time_method[method] = []\n",
    "    upper_quartile_run_time_method[method] = []\n",
    "    lower_quartile_run_time_method[method] = []\n",
    "    for size in size_list:        \n",
    "        median = np.percentile(run_times_method[method][size],50)\n",
    "        upper_quartile = np.percentile(run_times_method[method][size],75)\n",
    "        lower_quartile = np.percentile(run_times_method[method][size],25)\n",
    "        median_run_time_method[method].append(median)\n",
    "        upper_quartile_run_time_method[method].append(upper_quartile)\n",
    "        lower_quartile_run_time_method[method].append(lower_quartile)\n"
   ]
  },
  {
   "cell_type": "code",
   "execution_count": 28,
   "metadata": {},
   "outputs": [
    {
     "data": {
      "image/png": "[encoded data removed]",
      "text/plain": [
       "<Figure size 432x288 with 1 Axes>"
      ]
     },
     "metadata": {
      "needs_background": "light"
     },
     "output_type": "display_data"
    }
   ],
   "source": [
    "method_list = ['mstbackbone','fasttree','raxmlng','iqtree']\n",
    "method_colors = {}\n",
    "method_colors_map = {}\n",
    "method_colors_map['mstbackbone'] = ['cyan']\n",
    "method_colors_map['fasttree'] = ['black']\n",
    "method_colors_map['raxmlng'] = ['fuchsia']\n",
    "method_colors_map['iqtree'] = ['darkorange']\n",
    "method_colors_map['mst'] = ['darkblue']\n",
    "import matplotlib.pyplot as plt\n",
    "\n",
    "for method in method_list:\n",
    "    # method_colors[method] = method_colors_map[method] * len(num_leaves_method[method])    \n",
    "    # plt.scatter(num_leaves_method[method],run_times_method[method],label=method,c=method_colors[method])\n",
    "    plt.plot(size_list,median_run_time_method[method],label=method)\n",
    "    plt.title(\"Run time analysis on H3N2 HA\")\n",
    "    plt.xlabel(\"Number of sequences\")\n",
    "    plt.ylabel(\"Elapsed CPU time (sec)\")\n",
    "    plt.yscale(\"log\")\n",
    "\n",
    "plt.ylim(pow(10,1),pow(10,6))\n",
    "plt.legend(['MST-backbone(SEM-GMM)','FastTree 2','RAxML-NG', 'IQ-TREE 2'], bbox_to_anchor=(0.0,1.0), loc =\"upper left\", frameon=False)\n",
    "# plt.set_size_inches(13, 10)\n",
    "plt.savefig(figures_path+\"h3n2_ha_scalability.eps\", dpi=100,bbox_inches='tight')\n",
    "plt.savefig(figures_path+\"h3n2_ha_scalability.png\", dpi=100,bbox_inches='tight')"
   ]
  }
 ],
 "metadata": {
  "kernelspec": {
   "display_name": "Python 3",
   "language": "python",
   "name": "python3"
  },
  "language_info": {
   "codemirror_mode": {
    "name": "ipython",
    "version": 3
   },
   "file_extension": ".py",
   "mimetype": "text/x-python",
   "name": "python",
   "nbconvert_exporter": "python",
   "pygments_lexer": "ipython3",
   "version": "3.9.1"
  },
  "orig_nbformat": 4,
  "vscode": {
   "interpreter": {
    "hash": "1c81944796ab0cbe847b88ac2b8691f86c70ca3ea86bad1822326c922288ae29"
   }
  }
 },
 "nbformat": 4,
 "nbformat_minor": 2
}
